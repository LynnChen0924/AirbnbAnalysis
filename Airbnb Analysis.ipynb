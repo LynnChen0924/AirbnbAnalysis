{
 "cells": [
  {
   "attachments": {},
   "cell_type": "markdown",
   "metadata": {},
   "source": [
    "## Airbnb Project\n",
    "\n",
    "***Introduction:***\n",
    "Since 2006, guests and hosts have used Airbnb to expand on traveling possibilities and present more unique, personalized way of experiencing the world. This project uses the \"listing\", \"calandar\", and \"reviews\" datasets about the service for LA. This public dataset is part of Airbnb that we provided for you, and the original source can be found on this website: [insidearibnb.com](http://insideairbnb.com/get-the-data.html).\n",
    "\n",
    "\n",
    "\n",
    "***Task Description:*** \n",
    "One of the critical factors in deciding accommodation in Airbnb is price of reservation. Based on dataset, we should find out which factors will affect reservation prices and how we can save money on reservation."
   ]
  },
  {
   "cell_type": "markdown",
   "metadata": {},
   "source": [
    "### 1.Descriptive Analysis"
   ]
  },
  {
   "cell_type": "markdown",
   "metadata": {},
   "source": [
    "#### -Number of unique listings and hosts in the LA dataset."
   ]
  },
  {
   "cell_type": "code",
   "execution_count": 1,
   "metadata": {},
   "outputs": [],
   "source": [
    "from IPython.core.interactiveshell import InteractiveShell\n",
    "InteractiveShell.ast_node_interactivity = \"all\""
   ]
  },
  {
   "cell_type": "code",
   "execution_count": 2,
   "metadata": {},
   "outputs": [],
   "source": [
    "#importing the necessary dependencies\n",
    "import pandas as pd\n",
    "import numpy as np\n",
    "\n",
    "# Note: If you have ram problem, you can use google colab (https://colab.research.google.com/notebooks/) instead of jupyter. \n",
    "\n",
    "\n",
    "df_listings = pd.read_csv('listings.csv', low_memory=False)\n",
    "\n",
    "df_reviews = pd.read_csv('reviews.csv', low_memory=False)\n",
    "\n",
    "df_calendar = pd.read_csv('calendar.csv', low_memory=False)\n",
    "\n",
    "#df_listings.shape\n",
    "#df_reviews.head()\n",
    "#df_calendar.head()"
   ]
  },
  {
   "cell_type": "code",
   "execution_count": 3,
   "metadata": {},
   "outputs": [
    {
     "data": {
      "text/plain": [
       "38481"
      ]
     },
     "execution_count": 3,
     "metadata": {},
     "output_type": "execute_result"
    },
    {
     "data": {
      "text/plain": [
       "22274"
      ]
     },
     "execution_count": 3,
     "metadata": {},
     "output_type": "execute_result"
    }
   ],
   "source": [
    "#unique listings\n",
    "total_listings=df_listings['id'].nunique()\n",
    "total_listings\n",
    "#unique hosts\n",
    "\n",
    "total_hosts=df_listings['host_id'].nunique()\n",
    "total_hosts"
   ]
  },
  {
   "cell_type": "markdown",
   "metadata": {},
   "source": [
    "- There are 38481 unique listings and 22274 unique hosts in the LA dataset"
   ]
  },
  {
   "cell_type": "markdown",
   "metadata": {},
   "source": [
    "####  -Mean, median, standard deviation, minimum and maximum of the number of listings per host in LA."
   ]
  },
  {
   "cell_type": "code",
   "execution_count": 4,
   "metadata": {},
   "outputs": [
    {
     "data": {
      "text/plain": [
       "count    12626.000000\n",
       "mean         1.655473\n",
       "std          3.405334\n",
       "min          1.000000\n",
       "25%          1.000000\n",
       "50%          1.000000\n",
       "75%          1.000000\n",
       "max        208.000000\n",
       "Name: host_id, dtype: float64"
      ]
     },
     "execution_count": 4,
     "metadata": {},
     "output_type": "execute_result"
    }
   ],
   "source": [
    "# Please write your code here:\n",
    "df_la = df_listings[df_listings[\"city\"] == \"Los Angeles\"]\n",
    "df_la.host_id.value_counts().describe()"
   ]
  },
  {
   "cell_type": "markdown",
   "metadata": {},
   "source": [
    "##### Description of the number of listings per host\n",
    "- mean:1.655473\n",
    "- median:1.000000\n",
    "- std: 3.405334\n",
    "- min: 1\n",
    "- max: 208.000000"
   ]
  },
  {
   "cell_type": "markdown",
   "metadata": {},
   "source": [
    "#### - Average and standard deviation number of listings for a super host versus a non-super host. Super host or non-super host listing comparison."
   ]
  },
  {
   "cell_type": "code",
   "execution_count": 5,
   "metadata": {},
   "outputs": [
    {
     "data": {
      "text/plain": [
       "mean    1.828827\n",
       "std     4.085577\n",
       "Name: id, dtype: float64"
      ]
     },
     "execution_count": 5,
     "metadata": {},
     "output_type": "execute_result"
    },
    {
     "data": {
      "text/plain": [
       "mean    1.684001\n",
       "std     3.218153\n",
       "Name: id, dtype: float64"
      ]
     },
     "execution_count": 5,
     "metadata": {},
     "output_type": "execute_result"
    }
   ],
   "source": [
    "# Please write your code here:\n",
    "df_super=df_listings[df_listings['host_is_superhost'] == 't']\n",
    "df_non=df_listings[df_listings['host_is_superhost'] == 'f']\n",
    "df_super.groupby('host_id').id.count().agg(['mean','std'])\n",
    "df_non.groupby('host_id').id.count().agg(['mean','std'])"
   ]
  },
  {
   "cell_type": "markdown",
   "metadata": {},
   "source": [
    "**Superhost:**\n",
    "- mean:1.828827\n",
    "- std:4.085577\n",
    "\n",
    "**host:**\n",
    "- mean:1.684001\n",
    "- std:3.218153\n",
    "\n",
    "***Super hosts have more listings on average.***"
   ]
  },
  {
   "cell_type": "markdown",
   "metadata": {},
   "source": [
    "#### - Unique types of host verifications."
   ]
  },
  {
   "cell_type": "code",
   "execution_count": 6,
   "metadata": {
    "scrolled": true
   },
   "outputs": [
    {
     "data": {
      "text/plain": [
       "array([\"'email'\", \"'phone'\", \"'facebook'\", \"'reviews'\", \"'kba'\",\n",
       "       \"'jumio'\", \"'government_id'\", \"'offline_government_id'\",\n",
       "       \"'selfie'\", \"'identity_manual'\", \"'work_email'\", \"'google'\",\n",
       "       \"'manual_offline'\", '', \"'sent_id'\", \"'manual_online'\",\n",
       "       \"'photographer'\", \"'sesame'\", \"'sesame_offline'\", \"'zhima_selfie'\",\n",
       "       \"'weibo'\", 'None'], dtype=object)"
      ]
     },
     "execution_count": 6,
     "metadata": {},
     "output_type": "execute_result"
    },
    {
     "data": {
      "text/plain": [
       "22"
      ]
     },
     "execution_count": 6,
     "metadata": {},
     "output_type": "execute_result"
    }
   ],
   "source": [
    "#Verification = [[].append(method) for method in list(df_listings['host_verifications'])]\n",
    "Verification=df_listings['host_verifications'].tolist()\n",
    "\n",
    "total=[]\n",
    "for i in range(len(Verification)):\n",
    "    lists= Verification[i].replace('\"','').replace('[','').replace(']','').replace(' ','').split(',')\n",
    "    for n in lists:\n",
    "        total.append(n)\n",
    "df=pd.DataFrame(total,columns=['type'])\n",
    "df.type.unique()\n",
    "df.type.nunique()"
   ]
  },
  {
   "cell_type": "markdown",
   "metadata": {},
   "source": [
    "There are 20 different types of hosts verifications, including 'email','phone','facebook','reviews','kba','jumio','government_id','offline_government_id','selfie',\n",
    "'identity_manual','work_email','google','manual_offline','sent_id','manual_online','photographer','sesame','sesame_offline','zhima_selfie','weibo'"
   ]
  },
  {
   "attachments": {},
   "cell_type": "markdown",
   "metadata": {},
   "source": [
    "#### Five most popular verification types of hosts. For each type of the top five verifications, mean/standard deviation of the average price."
   ]
  },
  {
   "cell_type": "code",
   "execution_count": 7,
   "metadata": {},
   "outputs": [
    {
     "data": {
      "text/plain": [
       "'phone'                    38404\n",
       "'email'                    35777\n",
       "'reviews'                  26299\n",
       "'government_id'            25720\n",
       "'offline_government_id'    19283\n",
       "'jumio'                    16850\n",
       "'selfie'                   12800\n",
       "'identity_manual'          11564\n",
       "'kba'                       8608\n",
       "'facebook'                  6378\n",
       "'work_email'                5574\n",
       "'google'                    2613\n",
       "'manual_offline'             527\n",
       "'manual_online'              294\n",
       "'sent_id'                    164\n",
       "'zhima_selfie'               161\n",
       "'weibo'                       77\n",
       "'sesame'                      38\n",
       "'sesame_offline'              38\n",
       "                               9\n",
       "None                           7\n",
       "'photographer'                 6\n",
       "Name: type, dtype: int64"
      ]
     },
     "execution_count": 7,
     "metadata": {},
     "output_type": "execute_result"
    },
    {
     "data": {
      "text/plain": [
       "0.9974409625572416"
      ]
     },
     "execution_count": 7,
     "metadata": {},
     "output_type": "execute_result"
    },
    {
     "data": {
      "text/plain": [
       "0.92376762144204"
      ]
     },
     "execution_count": 7,
     "metadata": {},
     "output_type": "execute_result"
    },
    {
     "data": {
      "text/plain": [
       "0.6457304480560294"
      ]
     },
     "execution_count": 7,
     "metadata": {},
     "output_type": "execute_result"
    },
    {
     "data": {
      "text/plain": [
       "0.6194666427224567"
      ]
     },
     "execution_count": 7,
     "metadata": {},
     "output_type": "execute_result"
    },
    {
     "data": {
      "text/plain": [
       "0.4410523480290922"
      ]
     },
     "execution_count": 7,
     "metadata": {},
     "output_type": "execute_result"
    }
   ],
   "source": [
    "# Please write your code here:\n",
    "df.type.value_counts()\n",
    "#phone\n",
    "df1=df_listings[df_listings['host_verifications'].str.contains(\"'phone'\")]\n",
    "phone=df1.host_id.nunique()/total_hosts\n",
    "phone\n",
    "#email\n",
    "df2=df_listings[df_listings['host_verifications'].str.contains(\"'email'\")]\n",
    "email=df2.host_id.nunique()/total_hosts\n",
    "email\n",
    "#reviews\n",
    "df3=df_listings[df_listings['host_verifications'].str.contains(\"'reviews'\")]\n",
    "reviews=df3.host_id.nunique()/total_hosts\n",
    "reviews\n",
    "# government_id\n",
    "df4=df_listings[df_listings['host_verifications'].str.contains(\"'government_id'\")]\n",
    "government_id=df4.host_id.nunique()/total_hosts\n",
    "government_id\n",
    "#offline_government_id\n",
    "df5=df_listings[df_listings['host_verifications'].str.contains(\"'offline_government_id'\")]\n",
    "offline_government_id=df5.host_id.nunique()/total_hosts\n",
    "offline_government_id"
   ]
  },
  {
   "cell_type": "markdown",
   "metadata": {},
   "source": [
    "The 5 most popular verificaation types are 'phone','email','reviews','government_id' and 'offline_government_id.\n",
    "- phone:99.74%\n",
    "- email: 92.37%\n",
    "- reviews:64.57%\n",
    "- government_id:61.95%\n",
    "- offline_government_id:44.11%"
   ]
  },
  {
   "cell_type": "markdown",
   "metadata": {},
   "source": [
    "#### - Mean, standard deviation of the average price from 01/20/2020 to 03/20/2020 (inclusive)"
   ]
  },
  {
   "cell_type": "code",
   "execution_count": 8,
   "metadata": {},
   "outputs": [
    {
     "name": "stderr",
     "output_type": "stream",
     "text": [
      "<ipython-input-8-2bcc4820ea5d>:6: FutureWarning: The default value of regex will change from True to False in a future version. In addition, single character regular expressions will *not* be treated as literal strings when regex=True.\n",
      "  df_price['price']=df_price['price'].str.replace('$','')\n",
      "<ipython-input-8-2bcc4820ea5d>:6: SettingWithCopyWarning: \n",
      "A value is trying to be set on a copy of a slice from a DataFrame.\n",
      "Try using .loc[row_indexer,col_indexer] = value instead\n",
      "\n",
      "See the caveats in the documentation: https://pandas.pydata.org/pandas-docs/stable/user_guide/indexing.html#returning-a-view-versus-a-copy\n",
      "  df_price['price']=df_price['price'].str.replace('$','')\n",
      "<ipython-input-8-2bcc4820ea5d>:7: SettingWithCopyWarning: \n",
      "A value is trying to be set on a copy of a slice from a DataFrame.\n",
      "Try using .loc[row_indexer,col_indexer] = value instead\n",
      "\n",
      "See the caveats in the documentation: https://pandas.pydata.org/pandas-docs/stable/user_guide/indexing.html#returning-a-view-versus-a-copy\n",
      "  df_price['price']=df_price['price'].str.replace(',','').astype('float64')\n"
     ]
    },
    {
     "data": {
      "text/plain": [
       "count      7.000000\n",
       "mean     211.301804\n",
       "std        4.176603\n",
       "min      208.279236\n",
       "25%      208.619244\n",
       "50%      208.948623\n",
       "75%      213.374831\n",
       "max      217.896622\n",
       "Name: price, dtype: float64"
      ]
     },
     "execution_count": 8,
     "metadata": {},
     "output_type": "execute_result"
    }
   ],
   "source": [
    "# Please write your code here\n",
    "#df_calendar.head()\n",
    "df_calendar[\"date\"] = pd.to_datetime(df_calendar[\"date\"]) \n",
    "#df_calendar.dtypes\n",
    "df_price=df_calendar.loc[(df_calendar[\"date\"]<='2020-03-20')&(df_calendar[\"date\"]>='2020-01-20'),]\n",
    "df_price['price']=df_price['price'].str.replace('$','')\n",
    "df_price['price']=df_price['price'].str.replace(',','').astype('float64')\n",
    "df_price.groupby('date').price.mean().describe()\n"
   ]
  },
  {
   "cell_type": "markdown",
   "metadata": {},
   "source": [
    "The mean of the average price is $211.301804\n",
    "the standard deviation of the average price is 4.176603"
   ]
  },
  {
   "cell_type": "markdown",
   "metadata": {},
   "source": [
    "#### - The most popular ten words except stopping words"
   ]
  },
  {
   "cell_type": "code",
   "execution_count": 9,
   "metadata": {},
   "outputs": [
    {
     "name": "stdout",
     "output_type": "stream",
     "text": [
      "Requirement already satisfied: nltk in /Applications/anaconda3/lib/python3.8/site-packages (3.5)\n",
      "Requirement already satisfied: tqdm in /Applications/anaconda3/lib/python3.8/site-packages (from nltk) (4.50.2)\n",
      "Requirement already satisfied: click in /Applications/anaconda3/lib/python3.8/site-packages (from nltk) (7.1.2)\n",
      "Requirement already satisfied: joblib in /Applications/anaconda3/lib/python3.8/site-packages (from nltk) (0.17.0)\n",
      "Requirement already satisfied: regex in /Applications/anaconda3/lib/python3.8/site-packages (from nltk) (2020.10.15)\n"
     ]
    }
   ],
   "source": [
    "!pip install nltk\n"
   ]
  },
  {
   "cell_type": "code",
   "execution_count": 10,
   "metadata": {},
   "outputs": [
    {
     "name": "stderr",
     "output_type": "stream",
     "text": [
      "[nltk_data] Downloading package stopwords to /Users/mac/nltk_data...\n",
      "[nltk_data]   Package stopwords is already up-to-date!\n"
     ]
    },
    {
     "data": {
      "text/plain": [
       "True"
      ]
     },
     "execution_count": 10,
     "metadata": {},
     "output_type": "execute_result"
    }
   ],
   "source": [
    "# Please write your code here:\n",
    "import nltk\n",
    "from nltk.corpus import stopwords\n",
    "nltk.download('stopwords')\n",
    "sw=stopwords.words('english')\n"
   ]
  },
  {
   "cell_type": "code",
   "execution_count": 11,
   "metadata": {},
   "outputs": [
    {
     "data": {
      "text/plain": [
       "['i',\n",
       " 'me',\n",
       " 'my',\n",
       " 'myself',\n",
       " 'we',\n",
       " 'our',\n",
       " 'ours',\n",
       " 'ourselves',\n",
       " 'you',\n",
       " \"you're\",\n",
       " \"you've\",\n",
       " \"you'll\",\n",
       " \"you'd\",\n",
       " 'your',\n",
       " 'yours',\n",
       " 'yourself',\n",
       " 'yourselves',\n",
       " 'he',\n",
       " 'him',\n",
       " 'his',\n",
       " 'himself',\n",
       " 'she',\n",
       " \"she's\",\n",
       " 'her',\n",
       " 'hers',\n",
       " 'herself',\n",
       " 'it',\n",
       " \"it's\",\n",
       " 'its',\n",
       " 'itself',\n",
       " 'they',\n",
       " 'them',\n",
       " 'their',\n",
       " 'theirs',\n",
       " 'themselves',\n",
       " 'what',\n",
       " 'which',\n",
       " 'who',\n",
       " 'whom',\n",
       " 'this',\n",
       " 'that',\n",
       " \"that'll\",\n",
       " 'these',\n",
       " 'those',\n",
       " 'am',\n",
       " 'is',\n",
       " 'are',\n",
       " 'was',\n",
       " 'were',\n",
       " 'be',\n",
       " 'been',\n",
       " 'being',\n",
       " 'have',\n",
       " 'has',\n",
       " 'had',\n",
       " 'having',\n",
       " 'do',\n",
       " 'does',\n",
       " 'did',\n",
       " 'doing',\n",
       " 'a',\n",
       " 'an',\n",
       " 'the',\n",
       " 'and',\n",
       " 'but',\n",
       " 'if',\n",
       " 'or',\n",
       " 'because',\n",
       " 'as',\n",
       " 'until',\n",
       " 'while',\n",
       " 'of',\n",
       " 'at',\n",
       " 'by',\n",
       " 'for',\n",
       " 'with',\n",
       " 'about',\n",
       " 'against',\n",
       " 'between',\n",
       " 'into',\n",
       " 'through',\n",
       " 'during',\n",
       " 'before',\n",
       " 'after',\n",
       " 'above',\n",
       " 'below',\n",
       " 'to',\n",
       " 'from',\n",
       " 'up',\n",
       " 'down',\n",
       " 'in',\n",
       " 'out',\n",
       " 'on',\n",
       " 'off',\n",
       " 'over',\n",
       " 'under',\n",
       " 'again',\n",
       " 'further',\n",
       " 'then',\n",
       " 'once',\n",
       " 'here',\n",
       " 'there',\n",
       " 'when',\n",
       " 'where',\n",
       " 'why',\n",
       " 'how',\n",
       " 'all',\n",
       " 'any',\n",
       " 'both',\n",
       " 'each',\n",
       " 'few',\n",
       " 'more',\n",
       " 'most',\n",
       " 'other',\n",
       " 'some',\n",
       " 'such',\n",
       " 'no',\n",
       " 'nor',\n",
       " 'not',\n",
       " 'only',\n",
       " 'own',\n",
       " 'same',\n",
       " 'so',\n",
       " 'than',\n",
       " 'too',\n",
       " 'very',\n",
       " 's',\n",
       " 't',\n",
       " 'can',\n",
       " 'will',\n",
       " 'just',\n",
       " 'don',\n",
       " \"don't\",\n",
       " 'should',\n",
       " \"should've\",\n",
       " 'now',\n",
       " 'd',\n",
       " 'll',\n",
       " 'm',\n",
       " 'o',\n",
       " 're',\n",
       " 've',\n",
       " 'y',\n",
       " 'ain',\n",
       " 'aren',\n",
       " \"aren't\",\n",
       " 'couldn',\n",
       " \"couldn't\",\n",
       " 'didn',\n",
       " \"didn't\",\n",
       " 'doesn',\n",
       " \"doesn't\",\n",
       " 'hadn',\n",
       " \"hadn't\",\n",
       " 'hasn',\n",
       " \"hasn't\",\n",
       " 'haven',\n",
       " \"haven't\",\n",
       " 'isn',\n",
       " \"isn't\",\n",
       " 'ma',\n",
       " 'mightn',\n",
       " \"mightn't\",\n",
       " 'mustn',\n",
       " \"mustn't\",\n",
       " 'needn',\n",
       " \"needn't\",\n",
       " 'shan',\n",
       " \"shan't\",\n",
       " 'shouldn',\n",
       " \"shouldn't\",\n",
       " 'wasn',\n",
       " \"wasn't\",\n",
       " 'weren',\n",
       " \"weren't\",\n",
       " 'won',\n",
       " \"won't\",\n",
       " 'wouldn',\n",
       " \"wouldn't\"]"
      ]
     },
     "execution_count": 11,
     "metadata": {},
     "output_type": "execute_result"
    }
   ],
   "source": [
    "sw"
   ]
  },
  {
   "cell_type": "code",
   "execution_count": 12,
   "metadata": {},
   "outputs": [
    {
     "data": {
      "text/html": [
       "<div>\n",
       "<style scoped>\n",
       "    .dataframe tbody tr th:only-of-type {\n",
       "        vertical-align: middle;\n",
       "    }\n",
       "\n",
       "    .dataframe tbody tr th {\n",
       "        vertical-align: top;\n",
       "    }\n",
       "\n",
       "    .dataframe thead th {\n",
       "        text-align: right;\n",
       "    }\n",
       "</style>\n",
       "<table border=\"1\" class=\"dataframe\">\n",
       "  <thead>\n",
       "    <tr style=\"text-align: right;\">\n",
       "      <th></th>\n",
       "      <th>Word</th>\n",
       "      <th>Count</th>\n",
       "    </tr>\n",
       "  </thead>\n",
       "  <tbody>\n",
       "    <tr>\n",
       "      <th>3</th>\n",
       "      <td>place</td>\n",
       "      <td>16522</td>\n",
       "    </tr>\n",
       "    <tr>\n",
       "      <th>0</th>\n",
       "      <td>great</td>\n",
       "      <td>16483</td>\n",
       "    </tr>\n",
       "    <tr>\n",
       "      <th>4</th>\n",
       "      <td>stay</td>\n",
       "      <td>12563</td>\n",
       "    </tr>\n",
       "    <tr>\n",
       "      <th>1</th>\n",
       "      <td>location</td>\n",
       "      <td>9386</td>\n",
       "    </tr>\n",
       "    <tr>\n",
       "      <th>142</th>\n",
       "      <td>clean</td>\n",
       "      <td>8182</td>\n",
       "    </tr>\n",
       "    <tr>\n",
       "      <th>45</th>\n",
       "      <td>nice</td>\n",
       "      <td>6065</td>\n",
       "    </tr>\n",
       "    <tr>\n",
       "      <th>127</th>\n",
       "      <td>would</td>\n",
       "      <td>6033</td>\n",
       "    </tr>\n",
       "    <tr>\n",
       "      <th>18</th>\n",
       "      <td>host</td>\n",
       "      <td>5842</td>\n",
       "    </tr>\n",
       "    <tr>\n",
       "      <th>14</th>\n",
       "      <td>house</td>\n",
       "      <td>4825</td>\n",
       "    </tr>\n",
       "    <tr>\n",
       "      <th>38</th>\n",
       "      <td>everything</td>\n",
       "      <td>4700</td>\n",
       "    </tr>\n",
       "  </tbody>\n",
       "</table>\n",
       "</div>"
      ],
      "text/plain": [
       "           Word  Count\n",
       "3         place  16522\n",
       "0         great  16483\n",
       "4          stay  12563\n",
       "1      location   9386\n",
       "142       clean   8182\n",
       "45         nice   6065\n",
       "127       would   6033\n",
       "18         host   5842\n",
       "14        house   4825\n",
       "38   everything   4700"
      ]
     },
     "execution_count": 12,
     "metadata": {},
     "output_type": "execute_result"
    }
   ],
   "source": [
    "# Please write your code here:\n",
    "\n",
    "#df_reviews\n",
    "df_reviews['date']=pd.to_datetime(df_reviews['date'])\n",
    "df_reviews1=df_reviews.loc[(df_reviews['date']>='2019-01-01')&(df_reviews['date']<='2019-01-31'),]\n",
    "#df_reviews1['comments'].tolist()\n",
    "punc_number= ' ~/\\n,.?''!:;-_[]{}()\"@#$*><0123456789'\n",
    "total_words=[]\n",
    "for lists in df_reviews1['comments'].tolist():\n",
    "    words=str(lists).lower().split(' ')\n",
    "    words = [n.strip(punc_number) for n in words]\n",
    "    for word in words:\n",
    "        if word not in sw and word != '':\n",
    "            total_words.append(word)\n",
    "#total_words\n",
    "\n",
    "wordcount={}    \n",
    "for letter in total_words:\n",
    "    if letter in wordcount.keys():\n",
    "        wordcount[letter]=wordcount[letter]+1\n",
    "    else:\n",
    "        wordcount[letter]=1\n",
    "#wordcount\n",
    "\n",
    "# get the most popular ten words\n",
    "words_dict_2 = {\"Word\":list(wordcount.keys()), \"Count\":list(wordcount.values())}\n",
    "df_word = pd.DataFrame(data=words_dict_2)\n",
    "df_word.sort_values(by=\"Count\", ascending=False)[:10]\n"
   ]
  },
  {
   "cell_type": "markdown",
   "metadata": {},
   "source": [
    "most popular ten words：\n",
    "- place:16522\n",
    "- great：16483\n",
    "- stay:12563\n",
    "- location:9386\n",
    "- clean:8182\n",
    "- nice:6065\n",
    "- would:6033\n",
    "- host: 5842\n",
    "- house:4825\n",
    "- everything:4700"
   ]
  },
  {
   "cell_type": "markdown",
   "metadata": {},
   "source": [
    "## 2. Preditive analysis"
   ]
  },
  {
   "cell_type": "code",
   "execution_count": 29,
   "metadata": {},
   "outputs": [
    {
     "ename": "KeyError",
     "evalue": "'listing_url'",
     "output_type": "error",
     "traceback": [
      "\u001b[0;31m---------------------------------------------------------------------------\u001b[0m",
      "\u001b[0;31mKeyError\u001b[0m                                  Traceback (most recent call last)",
      "\u001b[0;32m/Applications/anaconda3/lib/python3.8/site-packages/pandas/core/indexes/base.py\u001b[0m in \u001b[0;36mget_loc\u001b[0;34m(self, key, method, tolerance)\u001b[0m\n\u001b[1;32m   3360\u001b[0m             \u001b[0;32mtry\u001b[0m\u001b[0;34m:\u001b[0m\u001b[0;34m\u001b[0m\u001b[0;34m\u001b[0m\u001b[0m\n\u001b[0;32m-> 3361\u001b[0;31m                 \u001b[0;32mreturn\u001b[0m \u001b[0mself\u001b[0m\u001b[0;34m.\u001b[0m\u001b[0m_engine\u001b[0m\u001b[0;34m.\u001b[0m\u001b[0mget_loc\u001b[0m\u001b[0;34m(\u001b[0m\u001b[0mcasted_key\u001b[0m\u001b[0;34m)\u001b[0m\u001b[0;34m\u001b[0m\u001b[0;34m\u001b[0m\u001b[0m\n\u001b[0m\u001b[1;32m   3362\u001b[0m             \u001b[0;32mexcept\u001b[0m \u001b[0mKeyError\u001b[0m \u001b[0;32mas\u001b[0m \u001b[0merr\u001b[0m\u001b[0;34m:\u001b[0m\u001b[0;34m\u001b[0m\u001b[0;34m\u001b[0m\u001b[0m\n",
      "\u001b[0;32m/Applications/anaconda3/lib/python3.8/site-packages/pandas/_libs/index.pyx\u001b[0m in \u001b[0;36mpandas._libs.index.IndexEngine.get_loc\u001b[0;34m()\u001b[0m\n",
      "\u001b[0;32m/Applications/anaconda3/lib/python3.8/site-packages/pandas/_libs/index.pyx\u001b[0m in \u001b[0;36mpandas._libs.index.IndexEngine.get_loc\u001b[0;34m()\u001b[0m\n",
      "\u001b[0;32mpandas/_libs/hashtable_class_helper.pxi\u001b[0m in \u001b[0;36mpandas._libs.hashtable.PyObjectHashTable.get_item\u001b[0;34m()\u001b[0m\n",
      "\u001b[0;32mpandas/_libs/hashtable_class_helper.pxi\u001b[0m in \u001b[0;36mpandas._libs.hashtable.PyObjectHashTable.get_item\u001b[0;34m()\u001b[0m\n",
      "\u001b[0;31mKeyError\u001b[0m: 'listing_url'",
      "\nThe above exception was the direct cause of the following exception:\n",
      "\u001b[0;31mKeyError\u001b[0m                                  Traceback (most recent call last)",
      "\u001b[0;32m<ipython-input-29-5920594dda43>\u001b[0m in \u001b[0;36m<module>\u001b[0;34m\u001b[0m\n\u001b[1;32m      3\u001b[0m \u001b[0;34m\u001b[0m\u001b[0m\n\u001b[1;32m      4\u001b[0m \u001b[0;32mfor\u001b[0m \u001b[0mcol\u001b[0m \u001b[0;32min\u001b[0m \u001b[0mcat_columns\u001b[0m\u001b[0;34m:\u001b[0m\u001b[0;34m\u001b[0m\u001b[0;34m\u001b[0m\u001b[0m\n\u001b[0;32m----> 5\u001b[0;31m     df = pd.concat([df_listings.drop(col, axis=1), pd.get_dummies(df[col], prefix=col, prefix_sep='_',\n\u001b[0m\u001b[1;32m      6\u001b[0m                     drop_first=True, dummy_na=True)], axis=1)\n\u001b[1;32m      7\u001b[0m \u001b[0;31m#drop listing_id and year columns\u001b[0m\u001b[0;34m\u001b[0m\u001b[0;34m\u001b[0m\u001b[0;34m\u001b[0m\u001b[0m\n",
      "\u001b[0;32m/Applications/anaconda3/lib/python3.8/site-packages/pandas/core/frame.py\u001b[0m in \u001b[0;36m__getitem__\u001b[0;34m(self, key)\u001b[0m\n\u001b[1;32m   3456\u001b[0m             \u001b[0;32mif\u001b[0m \u001b[0mself\u001b[0m\u001b[0;34m.\u001b[0m\u001b[0mcolumns\u001b[0m\u001b[0;34m.\u001b[0m\u001b[0mnlevels\u001b[0m \u001b[0;34m>\u001b[0m \u001b[0;36m1\u001b[0m\u001b[0;34m:\u001b[0m\u001b[0;34m\u001b[0m\u001b[0;34m\u001b[0m\u001b[0m\n\u001b[1;32m   3457\u001b[0m                 \u001b[0;32mreturn\u001b[0m \u001b[0mself\u001b[0m\u001b[0;34m.\u001b[0m\u001b[0m_getitem_multilevel\u001b[0m\u001b[0;34m(\u001b[0m\u001b[0mkey\u001b[0m\u001b[0;34m)\u001b[0m\u001b[0;34m\u001b[0m\u001b[0;34m\u001b[0m\u001b[0m\n\u001b[0;32m-> 3458\u001b[0;31m             \u001b[0mindexer\u001b[0m \u001b[0;34m=\u001b[0m \u001b[0mself\u001b[0m\u001b[0;34m.\u001b[0m\u001b[0mcolumns\u001b[0m\u001b[0;34m.\u001b[0m\u001b[0mget_loc\u001b[0m\u001b[0;34m(\u001b[0m\u001b[0mkey\u001b[0m\u001b[0;34m)\u001b[0m\u001b[0;34m\u001b[0m\u001b[0;34m\u001b[0m\u001b[0m\n\u001b[0m\u001b[1;32m   3459\u001b[0m             \u001b[0;32mif\u001b[0m \u001b[0mis_integer\u001b[0m\u001b[0;34m(\u001b[0m\u001b[0mindexer\u001b[0m\u001b[0;34m)\u001b[0m\u001b[0;34m:\u001b[0m\u001b[0;34m\u001b[0m\u001b[0;34m\u001b[0m\u001b[0m\n\u001b[1;32m   3460\u001b[0m                 \u001b[0mindexer\u001b[0m \u001b[0;34m=\u001b[0m \u001b[0;34m[\u001b[0m\u001b[0mindexer\u001b[0m\u001b[0;34m]\u001b[0m\u001b[0;34m\u001b[0m\u001b[0;34m\u001b[0m\u001b[0m\n",
      "\u001b[0;32m/Applications/anaconda3/lib/python3.8/site-packages/pandas/core/indexes/base.py\u001b[0m in \u001b[0;36mget_loc\u001b[0;34m(self, key, method, tolerance)\u001b[0m\n\u001b[1;32m   3361\u001b[0m                 \u001b[0;32mreturn\u001b[0m \u001b[0mself\u001b[0m\u001b[0;34m.\u001b[0m\u001b[0m_engine\u001b[0m\u001b[0;34m.\u001b[0m\u001b[0mget_loc\u001b[0m\u001b[0;34m(\u001b[0m\u001b[0mcasted_key\u001b[0m\u001b[0;34m)\u001b[0m\u001b[0;34m\u001b[0m\u001b[0;34m\u001b[0m\u001b[0m\n\u001b[1;32m   3362\u001b[0m             \u001b[0;32mexcept\u001b[0m \u001b[0mKeyError\u001b[0m \u001b[0;32mas\u001b[0m \u001b[0merr\u001b[0m\u001b[0;34m:\u001b[0m\u001b[0;34m\u001b[0m\u001b[0;34m\u001b[0m\u001b[0m\n\u001b[0;32m-> 3363\u001b[0;31m                 \u001b[0;32mraise\u001b[0m \u001b[0mKeyError\u001b[0m\u001b[0;34m(\u001b[0m\u001b[0mkey\u001b[0m\u001b[0;34m)\u001b[0m \u001b[0;32mfrom\u001b[0m \u001b[0merr\u001b[0m\u001b[0;34m\u001b[0m\u001b[0;34m\u001b[0m\u001b[0m\n\u001b[0m\u001b[1;32m   3364\u001b[0m \u001b[0;34m\u001b[0m\u001b[0m\n\u001b[1;32m   3365\u001b[0m         \u001b[0;32mif\u001b[0m \u001b[0mis_scalar\u001b[0m\u001b[0;34m(\u001b[0m\u001b[0mkey\u001b[0m\u001b[0;34m)\u001b[0m \u001b[0;32mand\u001b[0m \u001b[0misna\u001b[0m\u001b[0;34m(\u001b[0m\u001b[0mkey\u001b[0m\u001b[0;34m)\u001b[0m \u001b[0;32mand\u001b[0m \u001b[0;32mnot\u001b[0m \u001b[0mself\u001b[0m\u001b[0;34m.\u001b[0m\u001b[0mhasnans\u001b[0m\u001b[0;34m:\u001b[0m\u001b[0;34m\u001b[0m\u001b[0;34m\u001b[0m\u001b[0m\n",
      "\u001b[0;31mKeyError\u001b[0m: 'listing_url'"
     ]
    }
   ],
   "source": [
    "#turn categorical columns into dummies\n",
    "cat_columns = list(df_listings.select_dtypes(include=['object']).columns)\n",
    "    \n",
    "for col in cat_columns:\n",
    "    df = pd.concat([df_listings.drop(col, axis=1), pd.get_dummies(df[col], prefix=col, prefix_sep='_',\n",
    "                    drop_first=True, dummy_na=True)], axis=1)\n",
    "#drop listing_id and year columns\n",
    "#df = df_listings.drop(columns = ['listing_url'])\n",
    "\n",
    "#prepare train and test datasets for modelling\n",
    "TEST_SIZE = 0.3\n",
    "RAND_STATE = 42\n",
    "\n",
    "X = df.drop(columns = 'price')\n",
    "y = df[['price']]\n",
    "\n",
    "X_train, X_test, y_train, y_test = train_test_split(X, y, test_size = TEST_SIZE, random_state=RAND_STATE)"
   ]
  },
  {
   "cell_type": "code",
   "execution_count": null,
   "metadata": {},
   "outputs": [],
   "source": [
    "#train RF regressor model\n",
    "forest = RandomForestRegressor(n_estimators=100, \n",
    "                               criterion='mse', \n",
    "                               random_state=RAND_STATE, \n",
    "                               n_jobs=-1)\n",
    "forest.fit(X_train, y_train.squeeze())\n",
    "\n",
    "#calculate scores for the model\n",
    "y_train_preds = forest.predict(X_train)\n",
    "y_test_preds = forest.predict(X_test)\n",
    "\n",
    "print('Random Forest MSE train: %.3f, test: %.3f' % (\n",
    "        mean_squared_error(y_train, y_train_preds),\n",
    "        mean_squared_error(y_test, y_test_preds)))\n",
    "print('Random Forest R^2 train: %.3f, test: %.3f' % (\n",
    "        r2_score(y_train, y_train_preds),\n",
    "        r2_score(y_test, y_test_preds)))"
   ]
  },
  {
   "cell_type": "code",
   "execution_count": null,
   "metadata": {},
   "outputs": [],
   "source": [
    "#get feature importances from the model\n",
    "headers = [\"name\", \"score\"]\n",
    "values = sorted(zip(X_train.columns, forest.feature_importances_), key=lambda x: x[1] * -1)\n",
    "forest_feature_importances = pd.DataFrame(values, columns = headers)\n",
    "forest_feature_importances = forest_feature_importances.sort_values(by = ['score'], ascending = False)\n",
    "\n",
    "features = forest_feature_importances['name'][:15]\n",
    "y_pos = np.arange(len(features))\n",
    "scores = forest_feature_importances['score'][:15]\n",
    "\n",
    "#plot feature importances\n",
    "plt.figure(figsize=(10,5))\n",
    "plt.bar(y_pos, scores, align='center', alpha=0.5)\n",
    "plt.xticks(y_pos, features, rotation='vertical')\n",
    "plt.ylabel('Score')\n",
    "plt.xlabel('Features')\n",
    "plt.title('Feature importances (Random Forest)')\n",
    "\n",
    "plt.savefig('feature importances RF.png')\n",
    " \n",
    "plt.show()"
   ]
  },
  {
   "cell_type": "markdown",
   "metadata": {},
   "source": [
    "Based on the feature engineering,time of year,location,bathrooms, number of bedrooms,beds and accomodates have influence on price. Among them, host characters are most critial as listings, his/her experience and reponding times are related with price.\n",
    "Also, the pricing might depend on reviews: number of reviews and review scores."
   ]
  },
  {
   "cell_type": "markdown",
   "metadata": {},
   "source": [
    "## 3.Other findings"
   ]
  },
  {
   "cell_type": "markdown",
   "metadata": {},
   "source": [
    "- The price distribution of all hosts in LA\n",
    "\n",
    "- Locations of top 20 nerbourhoods\n",
    "\n",
    "- Difference between the price of the hosts and superhosts\n",
    "\n",
    "- Difference between the average ratings of hosts and superhosts\n",
    "\n",
    "- Difference between Host Response Rate % of hosts VS super hosts"
   ]
  },
  {
   "cell_type": "code",
   "execution_count": 1,
   "metadata": {},
   "outputs": [],
   "source": [
    "import matplotlib.pyplot as plt\n",
    "import seaborn as sns\n",
    "%matplotlib inline\n",
    "\n",
    "plt.style.use(\"ggplot\")"
   ]
  },
  {
   "cell_type": "code",
   "execution_count": 52,
   "metadata": {},
   "outputs": [
    {
     "data": {
      "text/plain": [
       "count    38481.000000\n",
       "mean       228.915985\n",
       "std        681.724766\n",
       "min          0.000000\n",
       "25%         70.000000\n",
       "50%        110.000000\n",
       "75%        189.000000\n",
       "max      25000.000000\n",
       "Name: price, dtype: float64"
      ]
     },
     "execution_count": 52,
     "metadata": {},
     "output_type": "execute_result"
    },
    {
     "data": {
      "text/plain": [
       "<matplotlib.axes._subplots.AxesSubplot at 0x7fe8e0903290>"
      ]
     },
     "execution_count": 52,
     "metadata": {},
     "output_type": "execute_result"
    },
    {
     "data": {
      "text/plain": [
       "<matplotlib.lines.Line2D at 0x7fe8e0903710>"
      ]
     },
     "execution_count": 52,
     "metadata": {},
     "output_type": "execute_result"
    },
    {
     "data": {
      "text/plain": [
       "Text(728.915984511837, 10000, 'Average = $228.92')"
      ]
     },
     "execution_count": 52,
     "metadata": {},
     "output_type": "execute_result"
    },
    {
     "data": {
      "text/plain": [
       "<matplotlib.axes._subplots.AxesSubplot at 0x7fe8dbe20090>"
      ]
     },
     "execution_count": 52,
     "metadata": {},
     "output_type": "execute_result"
    },
    {
     "data": {
      "text/plain": [
       "[Text(0.5, 1.0, 'The distribution of airbnb host in LA')]"
      ]
     },
     "execution_count": 52,
     "metadata": {},
     "output_type": "execute_result"
    },
    {
     "data": {
      "image/png": "[encoded data removed]",
      "text/plain": [
       "<Figure size 1080x360 with 3 Axes>"
      ]
     },
     "metadata": {
      "needs_background": "light"
     },
     "output_type": "display_data"
    }
   ],
   "source": [
    "# The price distribution of all hosts in LA\n",
    "\n",
    "df_listings[\"price\"] = df_listings.price.apply(lambda x: str(x).replace(\"$\",\"\").replace(\",\",\"\")).astype(float)\n",
    "df_listings[\"price\"].describe()\n",
    "#plot \n",
    "fig , (ax0,ax1) = plt.subplots(nrows=1,ncols=2, figsize = (15,5))\n",
    "df_listings.price.plot(kind='hist',x = \"price\",color='red',ax=ax0)\n",
    "Average1 = df_listings.price.mean()\n",
    "ax0.axvline(Average1, color = \"b\", linestyle = \"--\")\n",
    "text = \"Average = $%0.2f\" % Average1\n",
    "ax0.annotate(text, xy = (Average1+500,10000))\n",
    "# From the histagram, we could see that most of the price concentrate in $0-$2000.The Average price is only $228.92.\n",
    "#Therefore, we eliminate the price that is larger than $2000\n",
    "\n",
    "#Visualize price distributiony\n",
    "df_price=df_listings[df_listings[\"price\"]<2000]\n",
    "df_price.plot(kind='scatter', x='longitude', y='latitude', c='price', cmap=plt.get_cmap('jet'), colorbar=True, alpha=0.5, ax=ax1)\n",
    "ax1.set(title=\"The distribution of airbnb host in LA\")\n",
    "#From the map, we could learn that most of the host with relative high price level are located in the western of the city, which is situated by the sea。"
   ]
  },
  {
   "cell_type": "code",
   "execution_count": 134,
   "metadata": {},
   "outputs": [
    {
     "data": {
      "text/plain": [
       "<matplotlib.axes._subplots.AxesSubplot at 0x7fe87dd09c50>"
      ]
     },
     "execution_count": 134,
     "metadata": {},
     "output_type": "execute_result"
    },
    {
     "data": {
      "text/plain": [
       "[Text(0.5, 1.0, 'The location of top 20 neighborhood')]"
      ]
     },
     "execution_count": 134,
     "metadata": {},
     "output_type": "execute_result"
    },
    {
     "data": {
      "image/png": "[encoded data removed]",
      "text/plain": [
       "<Figure size 720x360 with 2 Axes>"
      ]
     },
     "metadata": {
      "needs_background": "light"
     },
     "output_type": "display_data"
    }
   ],
   "source": [
    "# Locations of top 20 nerbourhoods\n",
    "\n",
    "df_neighbourhood = pd.DataFrame(df_listings.groupby(by=\"neighbourhood_cleansed\").id.count())\n",
    "top20_neighbour= list(df_neighbourhood.reset_index().sort_values(by=\"id\", ascending=False).neighbourhood_cleansed[:20])\n",
    "neighbour = df_listings[df_listings.neighbourhood_cleansed.apply(lambda x: x in top20_neighbour)]\n",
    "fig,ax = plt.subplots(figsize=(10,5))\n",
    "neighbour.plot(kind='scatter', x='longitude', y='latitude', cmap=plt.get_cmap('jet'), alpha=0.5, ax=ax)\n",
    "ax.set(title=\"The location of top 20 neighborhood\")\n"
   ]
  },
  {
   "cell_type": "code",
   "execution_count": 99,
   "metadata": {},
   "outputs": [
    {
     "data": {
      "text/plain": [
       "count    38481.000000\n",
       "mean       228.915985\n",
       "std        681.724766\n",
       "min          0.000000\n",
       "25%         70.000000\n",
       "50%        110.000000\n",
       "75%        189.000000\n",
       "max      25000.000000\n",
       "Name: price, dtype: float64"
      ]
     },
     "execution_count": 99,
     "metadata": {},
     "output_type": "execute_result"
    },
    {
     "data": {
      "text/plain": [
       "Text(0.5, 1.0, 'Price on whether host is superhost')"
      ]
     },
     "execution_count": 99,
     "metadata": {},
     "output_type": "execute_result"
    },
    {
     "data": {
      "image/png": "[encoded data removed]",
      "text/plain": [
       "<Figure size 432x288 with 1 Axes>"
      ]
     },
     "metadata": {
      "needs_background": "light"
     },
     "output_type": "display_data"
    }
   ],
   "source": [
    "# Difference between the price of the hosts and superhosts\n",
    "df_listings[\"price\"] = df_listings.price.apply(lambda x: str(x).replace(\"$\",\"\").replace(\",\",\"\")).astype(float)\n",
    "df_listings['price'].describe()\n",
    "fig = sns.boxplot(x=\"host_is_superhost\",y=\"price\",data=df_listings[df_listings['price']<500])\n",
    "plt.title(\"Price on whether host is superhost\")\n",
    "plt.show(fig)"
   ]
  },
  {
   "cell_type": "code",
   "execution_count": 129,
   "metadata": {},
   "outputs": [
    {
     "data": {
      "text/plain": [
       "<matplotlib.axes._subplots.AxesSubplot at 0x7fe87e335f50>"
      ]
     },
     "execution_count": 129,
     "metadata": {},
     "output_type": "execute_result"
    },
    {
     "data": {
      "text/plain": [
       "[Text(0, 0.5, 'Ratings'),\n",
       " Text(0.5, 0, 'Host is superhost'),\n",
       " Text(0.5, 1.0, 'Host VS Superhost:the average ratings ')]"
      ]
     },
     "execution_count": 129,
     "metadata": {},
     "output_type": "execute_result"
    },
    {
     "data": {
      "text/plain": [
       "(0, 13)"
      ]
     },
     "execution_count": 129,
     "metadata": {},
     "output_type": "execute_result"
    },
    {
     "data": {
      "text/plain": [
       "<matplotlib.legend.Legend at 0x7fe87e3b6e10>"
      ]
     },
     "execution_count": 129,
     "metadata": {},
     "output_type": "execute_result"
    },
    {
     "data": {
      "image/png": "[encoded data removed]",
      "text/plain": [
       "<Figure size 432x576 with 1 Axes>"
      ]
     },
     "metadata": {
      "needs_background": "light"
     },
     "output_type": "display_data"
    }
   ],
   "source": [
    "# Difference between the average ratings of hosts and superhosts\n",
    "\n",
    "#drop all null value in column 'host_is_superhost'\n",
    "df_hosts=df_listings[df_listings['host_is_superhost'].notnull()]\n",
    "\n",
    "df_ratings=df_hosts.groupby('host_is_superhost')[['review_scores_accuracy','review_scores_checkin','review_scores_cleanliness','review_scores_location','review_scores_value']].mean()\n",
    "\n",
    "fig,ax = plt.subplots(figsize = (6,8))\n",
    "df_ratings.plot(kind='bar',ax=ax)\n",
    "ax.set(title = \"Host VS Superhost:the average ratings \", xlabel=\"Host is superhost\", ylabel= \"Ratings\")\n",
    "ax.set_ylim([0, 13])\n",
    "ax.legend(loc=1)\n",
    "#from the chart, we could ssee that superhosts' average ratings on accuracy,checkin,cleanliness,location and value are higher than those ratings of host."
   ]
  },
  {
   "cell_type": "code",
   "execution_count": 127,
   "metadata": {},
   "outputs": [
    {
     "data": {
      "text/plain": [
       "<matplotlib.axes._subplots.AxesSubplot at 0x7fe87c819550>"
      ]
     },
     "execution_count": 127,
     "metadata": {},
     "output_type": "execute_result"
    },
    {
     "data": {
      "text/plain": [
       "[Text(0.5, 1.0, 'The proportion of host response time for non-superhosts')]"
      ]
     },
     "execution_count": 127,
     "metadata": {},
     "output_type": "execute_result"
    },
    {
     "data": {
      "text/plain": [
       "(0, 1)"
      ]
     },
     "execution_count": 127,
     "metadata": {},
     "output_type": "execute_result"
    },
    {
     "data": {
      "text/plain": [
       "<matplotlib.axes._subplots.AxesSubplot at 0x7fe87d8a1b50>"
      ]
     },
     "execution_count": 127,
     "metadata": {},
     "output_type": "execute_result"
    },
    {
     "data": {
      "text/plain": [
       "[Text(0.5, 1.0, 'The proportion of host response time for superhosts')]"
      ]
     },
     "execution_count": 127,
     "metadata": {},
     "output_type": "execute_result"
    },
    {
     "data": {
      "text/plain": [
       "(0, 1)"
      ]
     },
     "execution_count": 127,
     "metadata": {},
     "output_type": "execute_result"
    },
    {
     "data": {
      "image/png": "[encoded data removed]",
      "text/plain": [
       "<Figure size 1080x216 with 2 Axes>"
      ]
     },
     "metadata": {
      "needs_background": "light"
     },
     "output_type": "display_data"
    }
   ],
   "source": [
    "# Difference between Host Response Rate % of hosts VS super hosts\n",
    "\n",
    "#drop all null value in column 'host_is_superhost'\n",
    "df_hosts=df_listings[df_listings['host_is_superhost'].notnull()]\n",
    "\n",
    "#seperate the data into superhost and host\n",
    "df_host=df_hosts.loc[df_hosts['host_is_superhost']=='f',]\n",
    "df_superhost=df_hosts.loc[df_hosts['host_is_superhost']=='t',]\n",
    "\n",
    "# hosts\n",
    "#df_host_response=df_host.groupby('host_is_superhost').host_response_time.value_counts()\n",
    "df_host_response=df_host.groupby('host_is_superhost').host_response_time.value_counts()/df_host.host_response_time.count()\n",
    "df_host_response=pd.DataFrame(df_host_response)\n",
    "#df_host_response\n",
    "#plot the data\n",
    "fig , (ax0,ax1) = plt.subplots(nrows=1,ncols=2, figsize = (15,3),sharey=True)\n",
    "df_host_response.host_response_time.plot(kind= \"barh\",x='percentage',y='host response time',color=\"g\",ax=ax0)\n",
    "ax0.set(title=\"The proportion of host response time for non-superhosts\")\n",
    "ax0.set_xlim([0, 1])\n",
    "\n",
    "# superhosts\n",
    "df_superhost_response=df_superhost.groupby('host_is_superhost').host_response_time.value_counts()/df_superhost.host_response_time.count()\n",
    "df_superhost_response=pd.DataFrame(df_superhost_response)\n",
    "#df_superhost_response\n",
    "#plot the data\n",
    "df_superhost_response.host_response_time.plot(kind= \"barh\",x='percentage',y='host response time',color=\"b\",ax=ax1)\n",
    "ax1.set(title=\"The proportion of host response time for superhosts\")\n",
    "ax1.set_xlim([0, 1])"
   ]
  },
  {
   "cell_type": "code",
   "execution_count": 31,
   "metadata": {},
   "outputs": [
    {
     "ename": "ModuleNotFoundError",
     "evalue": "No module named 'wordcloud'",
     "output_type": "error",
     "traceback": [
      "\u001b[0;31m---------------------------------------------------------------------------\u001b[0m",
      "\u001b[0;31mModuleNotFoundError\u001b[0m                       Traceback (most recent call last)",
      "\u001b[0;32m<ipython-input-31-8afe8b40abdb>\u001b[0m in \u001b[0;36m<module>\u001b[0;34m\u001b[0m\n\u001b[1;32m      1\u001b[0m \u001b[0;31m#WordCloud\u001b[0m\u001b[0;34m\u001b[0m\u001b[0;34m\u001b[0m\u001b[0;34m\u001b[0m\u001b[0m\n\u001b[0;32m----> 2\u001b[0;31m \u001b[0;32mfrom\u001b[0m \u001b[0mwordcloud\u001b[0m \u001b[0;32mimport\u001b[0m \u001b[0mWordCloud\u001b[0m\u001b[0;34m\u001b[0m\u001b[0;34m\u001b[0m\u001b[0m\n\u001b[0m\u001b[1;32m      3\u001b[0m \u001b[0;32mimport\u001b[0m \u001b[0mmatplotlib\u001b[0m\u001b[0;34m.\u001b[0m\u001b[0mpyplot\u001b[0m \u001b[0;32mas\u001b[0m \u001b[0mplt\u001b[0m\u001b[0;34m\u001b[0m\u001b[0;34m\u001b[0m\u001b[0m\n\u001b[1;32m      4\u001b[0m \u001b[0;34m\u001b[0m\u001b[0m\n\u001b[1;32m      5\u001b[0m \u001b[0mdf_listings_q7\u001b[0m \u001b[0;34m=\u001b[0m \u001b[0mdf_listings\u001b[0m\u001b[0;34m.\u001b[0m\u001b[0mdropna\u001b[0m\u001b[0;34m(\u001b[0m\u001b[0maxis\u001b[0m\u001b[0;34m=\u001b[0m\u001b[0;36m0\u001b[0m\u001b[0;34m,\u001b[0m\u001b[0msubset\u001b[0m\u001b[0;34m=\u001b[0m\u001b[0;34m[\u001b[0m\u001b[0;34m'amenities'\u001b[0m\u001b[0;34m]\u001b[0m\u001b[0;34m)\u001b[0m\u001b[0;34m.\u001b[0m\u001b[0mcopy\u001b[0m\u001b[0;34m(\u001b[0m\u001b[0;34m)\u001b[0m\u001b[0;34m\u001b[0m\u001b[0;34m\u001b[0m\u001b[0m\n",
      "\u001b[0;31mModuleNotFoundError\u001b[0m: No module named 'wordcloud'"
     ]
    }
   ],
   "source": [
    "#WordCloud \n",
    "from wordcloud import WordCloud\n",
    "import matplotlib.pyplot as plt\n",
    "\n",
    "df_listings_q7 = df_listings.dropna(axis=0,subset=['amenities']).copy()\n",
    "df_listings_q7 = df_listings_q7.loc[:,['host_id','amenities']].drop_duplicates(keep='last')\n",
    "#df_listings_q7\n",
    "\n",
    "words = {}\n",
    "for amenity in df_listings_q7.amenities.tolist():\n",
    "    if type(amenity)==str:\n",
    "        amenity = amenity.lower().split(',')\n",
    "        amenity = [item.strip(\"{}\\\"\") for item in amenity if item!='']\n",
    "        #print(comment)\n",
    "        for word in amenity:\n",
    "            if word in words:\n",
    "                words[word] += 1\n",
    "            else:\n",
    "                words[word] = 1\n",
    "\n",
    "words_sort = {value:key for key, value in words.items()}\n",
    "for value in sorted(words_sort.keys(),reverse=True):\n",
    "    print('%s=%d' %(words_sort[value],value))"
   ]
  },
  {
   "cell_type": "code",
   "execution_count": null,
   "metadata": {},
   "outputs": [],
   "source": [
    "wc = WordCloud(background_color='white',width=2000,height=2000).generate_from_frequencies(words)\n",
    "\n",
    "plt.imshow(wc)\n",
    "plt.axis('off')\n",
    "plt.show()"
   ]
  },
  {
   "cell_type": "markdown",
   "metadata": {},
   "source": [
    "#### Recommendation"
   ]
  },
  {
   "cell_type": "markdown",
   "metadata": {},
   "source": [
    "In this part, the dataset that we mainly focused on is 'listings.csv'.\n",
    "First,  we want to have a general overview of the locations and price distribution of the hosts in this dataset. Then, we would compare some attributes between the hosts and super hosts, hoping to find the reasons why super hosts become 'super'.\n",
    "\n",
    "Among the five questions we have set, we first did a general background exploration on the price distribution of all hosts to discover the price level of Airbnbs in different locations in  LA and find what factors lead to the high price for an Airbnb. Besides, we calculated the number of hosts in each neighborhood and filtered out the 20 neighborhoods with the highest number of hosts and plot their locations on the map. Finally, we tried to explore the differences between hosts and super hosts based on price, average ratings, and hosts response time, hoping to find the decisive factors for a super host and what improvements a host can make to become a super host in the future.  \n",
    "\n",
    "From question 1, We found that the regular price for an Airbnb in LA is between $0-$100. 75% of the set price for an airbnb is lower than $189.The majority of the host with relatively high price levels are located in the west of the city, which is situated by the sea. It seems that whether the host is aside from the sea is a decisive factor for the price of an Airbnb. From question 2, we discovered that the locations of the top 20 neighborhoods are located in the northwest part of LA. From the map, we could see that the top 20 neighborhoods are mainly located in Santa Monica and also situated by the sea. It is reasonable to predict that Santa Monica is an excellent tourist destination, backed by the sea, with pleasant sceneries and high-quality service. \n",
    "\n",
    "From the charts in questions 3,4, and 5, we could see that the price of super hosts is slightly higher than the hosts.At the same time, the average ratings of super hosts for four aspects (accuracy, check-in, cleanliness, location, and value) are also higher than normal hosts. One of the reasons behind the high price and high ratings behind the super hosts is the response time.The bar chart in Q5 shows that the response time for super hosts tends to be shorter than hosts'. Around 83% of super hosts respond within one hour, while only 65% of hosts respond within one hour. For hosts who respond within a few hours or within a day, the percentage of super hosts is smaller than that of the normal hosts. Moreover, responding within a few days and more doesn't appear among super hosts. The results indicate that the ratings are determined by the attitude and service of a host. If hosts want to be super hosts, they need to improve their service, shorten the response time and provide a greater experience for guests."
   ]
  },
  {
   "cell_type": "markdown",
   "metadata": {},
   "source": [
    "### 4. Summary"
   ]
  },
  {
   "cell_type": "markdown",
   "metadata": {},
   "source": [
    "Based on analysis above , we get knowledge of current status on LA Airbnb market, which gives us guidence on how to choose between places offered by Airbnb and save money to get best accomendation place.\n",
    "\n",
    "Time to travel :)"
   ]
  }
 ],
 "metadata": {
  "kernelspec": {
   "display_name": "Python 3",
   "language": "python",
   "name": "python3"
  },
  "language_info": {
   "codemirror_mode": {
    "name": "ipython",
    "version": 3
   },
   "file_extension": ".py",
   "mimetype": "text/x-python",
   "name": "python",
   "nbconvert_exporter": "python",
   "pygments_lexer": "ipython3",
   "version": "3.8.5"
  }
 },
 "nbformat": 4,
 "nbformat_minor": 2
}
